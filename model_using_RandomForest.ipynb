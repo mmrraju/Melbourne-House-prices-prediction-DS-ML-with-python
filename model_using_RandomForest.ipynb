{
 "cells": [
  {
   "cell_type": "code",
   "execution_count": 19,
   "metadata": {},
   "outputs": [
    {
     "name": "stdout",
     "output_type": "stream",
     "text": [
      "Validation MAE when not specifying max_leaf_nodes: 29,653\n"
     ]
    }
   ],
   "source": [
    "'''Here I try to buildup model with Randomforest and make sure that accuracy is imporved  then DecisionTree and make an output file as submision.csv'''\n",
    "import pandas as pd\n",
    "from sklearn.metrics import mean_absolute_error\n",
    "from sklearn.model_selection import train_test_split\n",
    "from sklearn.tree import DecisionTreeRegressor\n",
    "\n",
    "#Load the training and tesing dataset\n",
    "train_data=pd.read_csv(\"train.csv\", index_col=0)\n",
    "\n",
    "\n",
    "\n",
    "#Create target object and call it y\n",
    "y = train_data.SalePrice\n",
    "\n",
    "#Create feature X\n",
    "X = train_data[['LotArea', 'YearBuilt', '1stFlrSF', '2ndFlrSF', 'FullBath', 'BedroomAbvGr', 'TotRmsAbvGrd']]\n",
    "\n",
    "#Split into validation and training data\n",
    "train_X, val_X, train_y, val_y = train_test_split(X, y, random_state=1)\n",
    "\n",
    "#Specify model with DecisionTree\n",
    "DTmodel = DecisionTreeRegressor(random_state =1 )\n",
    "\n",
    "#Fit the model \n",
    "DTmodel.fit(train_X, train_y)\n",
    "\n",
    "#Make Validation predictions and calculate mean absolute error\n",
    "val_predictions = DTmodel.predict(val_X)\n",
    "val_mae = mean_absolute_error(val_predictions, val_y)\n",
    "print(\"Validation MAE when not specifying max_leaf_nodes: {:,.0f}\".format(val_mae))"
   ]
  },
  {
   "cell_type": "code",
   "execution_count": 9,
   "metadata": {},
   "outputs": [
    {
     "name": "stdout",
     "output_type": "stream",
     "text": [
      "Validation MAE for best value of max_leaf_nodes: 27,283\n"
     ]
    }
   ],
   "source": [
    "#Using best value for max_leaf_nodes\n",
    "DTmodel_2 = DecisionTreeRegressor(max_leaf_nodes = 100, random_state = 1)\n",
    "DTmodel_2.fit(train_X, train_y)\n",
    "val_predictions = DTmodel_2.predict(val_X)\n",
    "val_mae = mean_absolute_error(val_predictions, val_y)\n",
    "print(\"Validation MAE for best value of max_leaf_nodes: {:,.0f}\".format(val_mae))"
   ]
  },
  {
   "cell_type": "code",
   "execution_count": 12,
   "metadata": {},
   "outputs": [
    {
     "name": "stdout",
     "output_type": "stream",
     "text": [
      "Validation MAE for RandomForest :  21857.15912981083\n"
     ]
    }
   ],
   "source": [
    "# Using RandomForest Algorithm. Import RandomForest model\n",
    "from sklearn.ensemble import RandomForestRegressor\n",
    "\n",
    "RFmodel = RandomForestRegressor(random_state = 1)\n",
    "RFmodel.fit(train_X, train_y)\n",
    "val_predictions = RFmodel.predict(val_X)\n",
    "val_mae = mean_absolute_error(val_predictions, val_y)\n",
    "print(\"Validation MAE for RandomForest : \", val_mae)"
   ]
  },
  {
   "cell_type": "code",
   "execution_count": 16,
   "metadata": {},
   "outputs": [],
   "source": [
    "# To improve accuracy, create a new RandomForest which we use train on all training data\n",
    "final_model = RandomForestRegressor(random_state = 1)\n",
    "\n",
    "#fit model on all data from the training data\n",
    "final_model.fit(X, y)\n",
    "\n",
    "#Load test dataset \n",
    "test_data = pd.read_csv(\"test.csv\")\n",
    "test_data.head()\n",
    "test_X = test_data[['LotArea', 'YearBuilt', '1stFlrSF', '2ndFlrSF', 'FullBath', 'BedroomAbvGr', 'TotRmsAbvGrd']]\n",
    "\n",
    "#Predict model\n",
    "test_predicts = final_model.predict(test_X)\n",
    "\n",
    "output = pd.DataFrame({'Id': test_data.Id, 'SalePrice': test_predicts})\n",
    "output.to_csv('submission.csv', index=False)\n"
   ]
  },
  {
   "cell_type": "code",
   "execution_count": 17,
   "metadata": {},
   "outputs": [
    {
     "data": {
      "text/html": [
       "<div>\n",
       "<style scoped>\n",
       "    .dataframe tbody tr th:only-of-type {\n",
       "        vertical-align: middle;\n",
       "    }\n",
       "\n",
       "    .dataframe tbody tr th {\n",
       "        vertical-align: top;\n",
       "    }\n",
       "\n",
       "    .dataframe thead th {\n",
       "        text-align: right;\n",
       "    }\n",
       "</style>\n",
       "<table border=\"1\" class=\"dataframe\">\n",
       "  <thead>\n",
       "    <tr style=\"text-align: right;\">\n",
       "      <th></th>\n",
       "      <th>Id</th>\n",
       "      <th>SalePrice</th>\n",
       "    </tr>\n",
       "  </thead>\n",
       "  <tbody>\n",
       "    <tr>\n",
       "      <th>0</th>\n",
       "      <td>1461</td>\n",
       "      <td>122656.58</td>\n",
       "    </tr>\n",
       "    <tr>\n",
       "      <th>1</th>\n",
       "      <td>1462</td>\n",
       "      <td>156789.00</td>\n",
       "    </tr>\n",
       "    <tr>\n",
       "      <th>2</th>\n",
       "      <td>1463</td>\n",
       "      <td>182959.00</td>\n",
       "    </tr>\n",
       "    <tr>\n",
       "      <th>3</th>\n",
       "      <td>1464</td>\n",
       "      <td>178102.00</td>\n",
       "    </tr>\n",
       "    <tr>\n",
       "      <th>4</th>\n",
       "      <td>1465</td>\n",
       "      <td>189049.48</td>\n",
       "    </tr>\n",
       "  </tbody>\n",
       "</table>\n",
       "</div>"
      ],
      "text/plain": [
       "     Id  SalePrice\n",
       "0  1461  122656.58\n",
       "1  1462  156789.00\n",
       "2  1463  182959.00\n",
       "3  1464  178102.00\n",
       "4  1465  189049.48"
      ]
     },
     "execution_count": 17,
     "metadata": {},
     "output_type": "execute_result"
    }
   ],
   "source": [
    "df = pd.read_csv(\"submission.csv\")\n",
    "df.head()"
   ]
  }
 ],
 "metadata": {
  "kernelspec": {
   "display_name": "Python 3",
   "language": "python",
   "name": "python3"
  },
  "language_info": {
   "codemirror_mode": {
    "name": "ipython",
    "version": 3
   },
   "file_extension": ".py",
   "mimetype": "text/x-python",
   "name": "python",
   "nbconvert_exporter": "python",
   "pygments_lexer": "ipython3",
   "version": "3.8.5"
  }
 },
 "nbformat": 4,
 "nbformat_minor": 4
}
