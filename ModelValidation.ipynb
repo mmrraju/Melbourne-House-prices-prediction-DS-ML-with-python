{
 "cells": [
  {
   "cell_type": "code",
   "execution_count": 1,
   "metadata": {},
   "outputs": [
    {
     "name": "stdout",
     "output_type": "stream",
     "text": [
      "MAE :  29652.931506849316\n"
     ]
    }
   ],
   "source": [
    "'''Here discussed about model validation data. How to split data and Mean aboulute error \n",
    "   to find how much better model is work'''\n",
    "import pandas as pd\n",
    "from sklearn.tree import DecisionTreeRegressor\n",
    "#path to file read\n",
    "train_data=pd.read_csv(\"train.csv\")\n",
    "#predict targect column\n",
    "y=train_data.SalePrice\n",
    "\n",
    "#Create feature \n",
    "feature_names=['LotArea', 'YearBuilt', '1stFlrSF', '2ndFlrSF', 'FullBath', 'BedroomAbvGr', 'TotRmsAbvGrd']\n",
    "X=train_data[feature_names]\n",
    "train_data.head()\n",
    "\n",
    "#split data and import the train_test_split function\n",
    "from sklearn.model_selection import train_test_split\n",
    "X_train, X_valid, y_train, y_valid = train_test_split(X, y, random_state = 1)\n",
    "\n",
    "#specify model and fit model\n",
    "model=DecisionTreeRegressor(random_state=1)\n",
    "model.fit(X_train, y_train)\n",
    "\n",
    "#make prediction\n",
    "valid_predictions=model.predict(X_valid)\n",
    "\n",
    "\n",
    "#Calculate the mean absolute error in validation data\n",
    "from sklearn.metrics import mean_absolute_error\n",
    "valid_mae = mean_absolute_error(y_valid, valid_predictions)\n",
    "print(\"MAE : \", valid_mae)\n"
   ]
  }
 ],
 "metadata": {
  "kernelspec": {
   "display_name": "Python 3",
   "language": "python",
   "name": "python3"
  },
  "language_info": {
   "codemirror_mode": {
    "name": "ipython",
    "version": 3
   },
   "file_extension": ".py",
   "mimetype": "text/x-python",
   "name": "python",
   "nbconvert_exporter": "python",
   "pygments_lexer": "ipython3",
   "version": "3.8.5"
  }
 },
 "nbformat": 4,
 "nbformat_minor": 4
}
